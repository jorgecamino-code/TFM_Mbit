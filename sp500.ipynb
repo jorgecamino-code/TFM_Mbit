{
 "cells": [
  {
   "cell_type": "code",
   "execution_count": 221,
   "metadata": {},
   "outputs": [],
   "source": [
    "import warnings\n",
    "import pandas as pd\n",
    "import numpy as np\n",
    "import matplotlib.pyplot as plt\n",
    "import datetime\n",
    "import holidays\n",
    "%matplotlib inline"
   ]
  },
  {
   "cell_type": "code",
   "execution_count": 222,
   "metadata": {},
   "outputs": [],
   "source": [
    "# ELimina los warnings en la salida de la celda\n",
    "warnings.simplefilter('ignore')"
   ]
  },
  {
   "cell_type": "code",
   "execution_count": 223,
   "metadata": {},
   "outputs": [],
   "source": [
    "# Carga de datos de fichero pickle (9010, 31306) Ultimos 30 Años\n",
    "data_sp = pd.read_pickle(\"C:/Users/Carap/OneDrive/Escritorio/Proyecto/datasets/data componentes SP500.pkl\")"
   ]
  },
  {
   "cell_type": "code",
   "execution_count": 224,
   "metadata": {},
   "outputs": [],
   "source": [
    "data_sp_copy = data_sp"
   ]
  },
  {
   "cell_type": "code",
   "execution_count": 225,
   "metadata": {},
   "outputs": [],
   "source": [
    "# Definir Año para filtrar\n",
    "start_date  =  '2014-10-08'\n",
    "data_sp['date'] = data_sp_copy.index\n",
    "data_sp_copy = data_sp_copy.reset_index(drop=True)"
   ]
  },
  {
   "cell_type": "code",
   "execution_count": 226,
   "metadata": {},
   "outputs": [],
   "source": [
    "# Aqui se filtra\n",
    "data_sp_copy['date']=pd.to_datetime(data_sp_copy['date'])\n",
    "datefilter  =  (data_sp_copy['date']  >  start_date )\n",
    "data_sp_copy  =  data_sp_copy.loc[datefilter] "
   ]
  },
  {
   "cell_type": "code",
   "execution_count": 227,
   "metadata": {},
   "outputs": [],
   "source": [
    "# resetear index\n",
    "data_sp_copy.index = range(data_sp_copy.shape[0])"
   ]
  },
  {
   "cell_type": "code",
   "execution_count": 228,
   "metadata": {},
   "outputs": [],
   "source": [
    "# guardar date en dataframe \n",
    "date = pd.DataFrame(data_sp_copy['date'])\n",
    "date['date'] =  pd.to_datetime(date['date'])"
   ]
  },
  {
   "cell_type": "code",
   "execution_count": 229,
   "metadata": {
    "scrolled": false
   },
   "outputs": [],
   "source": [
    "# extraer nombres de compañias\n",
    "company=[]\n",
    "for i in data_sp_copy.columns:\n",
    "    company.append(i[0])\n",
    "    "
   ]
  },
  {
   "cell_type": "code",
   "execution_count": 230,
   "metadata": {},
   "outputs": [],
   "source": [
    "company = list(dict.fromkeys(company))"
   ]
  },
  {
   "cell_type": "code",
   "execution_count": 231,
   "metadata": {},
   "outputs": [],
   "source": [
    "# elimino date\n",
    "removeWord = ['date']\n",
    "company = [word for word in company if word not in removeWord]"
   ]
  },
  {
   "cell_type": "code",
   "execution_count": 232,
   "metadata": {},
   "outputs": [],
   "source": [
    "# creo una lista con cada companias como dataframe\n",
    "dataframes = []\n",
    "for i in company:\n",
    "    dataframes.append(data_sp_copy[i])"
   ]
  },
  {
   "cell_type": "code",
   "execution_count": 233,
   "metadata": {},
   "outputs": [],
   "source": [
    "# creo la columna Date con la fecha\n",
    "for i in dataframes:\n",
    "    i['Date'] = date['date']   "
   ]
  },
  {
   "cell_type": "code",
   "execution_count": 234,
   "metadata": {},
   "outputs": [],
   "source": [
    "## Crear dataframe de tiempo con todos los dias (porque no estaban en el Accurate Quand data)\n",
    "Timeframe = pd.date_range(start='10/08/2014', end='10/08/2019')\n",
    "Timeframe = pd.DataFrame(Timeframe)\n",
    "Timeframe.columns = ['Date']"
   ]
  },
  {
   "cell_type": "code",
   "execution_count": 235,
   "metadata": {},
   "outputs": [],
   "source": [
    "# Añado los días que faltaban\n",
    "for i in dataframes:\n",
    "    i = pd.merge(i, Timeframe, on='Date', how='outer')\n",
    "    i.sort_values(by = ['Date'], inplace = True)\n",
    "    i = i.reset_index(drop=True)\n"
   ]
  },
  {
   "cell_type": "code",
   "execution_count": 236,
   "metadata": {},
   "outputs": [],
   "source": [
    "# Crear una variable para cada dataframe\n",
    "# for i, val in enumerate(dataframes): \n",
    "#     globals()[\"dataframe_Sep_%d\"%i] = val"
   ]
  },
  {
   "cell_type": "code",
   "execution_count": 237,
   "metadata": {},
   "outputs": [],
   "source": [
    "# obtengo los holidays para UnitedStates en una lista para los años 2015-16-17-18-19\n",
    "years = [2014, 2015, 2016, 2017, 2018, 2019]\n",
    "holidays_date = []\n",
    "for i in years:\n",
    "    for j in holidays.UnitedStates(years=i).items():\n",
    "        holidays_date.append(str(j[0]))"
   ]
  },
  {
   "cell_type": "code",
   "execution_count": null,
   "metadata": {},
   "outputs": [],
   "source": [
    "# Se crea una columna con 1 si el dia coincide con la lista creada de dias holidays\n",
    "for i in dataframes:\n",
    "    i.loc[i['Date'].isin(holidays_date), 'Holiday'] = '1'\n",
    "    i.loc[~i['Date'].isin(holidays_date), 'Holiday'] = '0'"
   ]
  },
  {
   "cell_type": "code",
   "execution_count": null,
   "metadata": {},
   "outputs": [],
   "source": [
    "# Creo la columna Profitability ((close-open)/open*100) y Day_Week\n",
    "# Si Week_day es Sabado o domingo o esa fecha es festiva ponme un 0 en el profitability porque no ha habido movimiento\n",
    "for i in dataframes:\n",
    "    i['Day_Week'] = i['Date'].dt.weekday_name\n",
    "    i['Month'] = i['Date'].dt.month\n",
    "    i['YearMonth'] = i['Date'].dt.to_period('M')\n",
    "    i['Profitability'] = (i['close']-i['open'])/i['open']*100\n",
    "    i.loc[(i['Day_Week'] == 'Saturday') | (i['Day_Week'] == 'Sunday') | (i['Holiday'] == 1), 'Profitability'] = 0"
   ]
  },
  {
   "cell_type": "code",
   "execution_count": null,
   "metadata": {},
   "outputs": [],
   "source": [
    "# creo la columna company con cada nombre de la compañia\n",
    "j=0\n",
    "for i in company:\n",
    "    dataframes[j]['Company'] = i\n",
    "    j += 1"
   ]
  },
  {
   "cell_type": "code",
   "execution_count": null,
   "metadata": {},
   "outputs": [],
   "source": [
    "# create list to remove some elements from the list of dataframes that do not mathc a condition\n",
    "delete_dataframes = []"
   ]
  },
  {
   "cell_type": "code",
   "execution_count": null,
   "metadata": {},
   "outputs": [],
   "source": [
    "# Eliminate dataframes from list that have a number of NAs in PROFITABILITY is higher than 15%\n",
    "for j,i in enumerate(dataframes):\n",
    "    if i['Profitability'].isnull().mean() < 0.15:\n",
    "        delete_dataframes.append(j)\n",
    "test = [x for j, x in enumerate(dataframes) if j in delete_dataframes]"
   ]
  },
  {
   "cell_type": "code",
   "execution_count": null,
   "metadata": {},
   "outputs": [],
   "source": [
    "# Eliminate columns that have a number of NAs higher than 25%\n",
    "for i in dataframes:\n",
    "    null_columns=list(i.columns[i.isnull().any()])\n",
    "\n",
    "    for j in null_columns:\n",
    "        if i[j].isnull().mean() < 0.25:\n",
    "            pass\n",
    "        else: \n",
    "            i = i.drop(columns=[j])"
   ]
  },
  {
   "cell_type": "code",
   "execution_count": null,
   "metadata": {},
   "outputs": [],
   "source": [
    "# Create a list of false predictors\n",
    "false_predictors = ['open', 'high', 'low', 'close', 'bid', 'ask']"
   ]
  },
  {
   "cell_type": "code",
   "execution_count": null,
   "metadata": {},
   "outputs": [],
   "source": [
    "# Eliminate the columns that have the false predictors\n",
    "j = 0\n",
    "for i in dataframes[j].columns:\n",
    "    for x in false_predictors:\n",
    "        if i==x:\n",
    "            dataframes[j] = dataframes[j].drop(columns=[i])\n",
    "j += 1"
   ]
  },
  {
   "cell_type": "markdown",
   "metadata": {},
   "source": [
    "# TODO BIEEEEEEN"
   ]
  },
  {
   "cell_type": "markdown",
   "metadata": {},
   "source": [
    "# Probar Modelo LSTM -- Notebook: Predicción Fugas"
   ]
  },
  {
   "cell_type": "code",
   "execution_count": null,
   "metadata": {},
   "outputs": [],
   "source": [
    "test = dataframes.copy()"
   ]
  },
  {
   "cell_type": "code",
   "execution_count": 192,
   "metadata": {},
   "outputs": [],
   "source": [
    "import pandas as pd\n",
    "import numpy as np\n",
    "import seaborn as sns\n",
    "import matplotlib.pyplot as plt\n",
    "import itertools\n",
    "from sklearn.metrics import roc_curve, auc, confusion_matrix\n",
    "from sklearn.model_selection import train_test_split\n",
    "from sklearn.preprocessing import StandardScaler\n",
    "from keras.models import Sequential\n",
    "from keras.layers import Dense\n",
    "from keras import regularizers\n",
    "\n",
    "%matplotlib inline"
   ]
  },
  {
   "cell_type": "code",
   "execution_count": null,
   "metadata": {},
   "outputs": [],
   "source": [
    "prueba = test"
   ]
  },
  {
   "cell_type": "code",
   "execution_count": 194,
   "metadata": {},
   "outputs": [],
   "source": [
    "df_1 = prueba[0]\n",
    "y = df_1[\"Profitability\"].values\n",
    "df_1 = df_1.drop(\"Profitability\", axis=1)\n",
    "X = df_1.values"
   ]
  },
  {
   "cell_type": "code",
   "execution_count": 162,
   "metadata": {},
   "outputs": [],
   "source": [
    "X_train, X_test, y_train, y_test = train_test_split(X,y,test_size=0.20,\n",
    "                                                    random_state=1)"
   ]
  },
  {
   "cell_type": "code",
   "execution_count": 163,
   "metadata": {
    "scrolled": false
   },
   "outputs": [
    {
     "ename": "TypeError",
     "evalue": "float() argument must be a string or a number, not 'Timestamp'",
     "output_type": "error",
     "traceback": [
      "\u001b[1;31m---------------------------------------------------------------------------\u001b[0m",
      "\u001b[1;31mTypeError\u001b[0m                                 Traceback (most recent call last)",
      "\u001b[1;32m<ipython-input-163-842446c49470>\u001b[0m in \u001b[0;36m<module>\u001b[1;34m\u001b[0m\n\u001b[1;32m----> 1\u001b[1;33m \u001b[0mX_train\u001b[0m \u001b[1;33m=\u001b[0m \u001b[0mX_train\u001b[0m\u001b[1;33m.\u001b[0m\u001b[0mastype\u001b[0m\u001b[1;33m(\u001b[0m\u001b[1;34m'float'\u001b[0m\u001b[1;33m)\u001b[0m \u001b[1;31m# así no son int (causando warnings)\u001b[0m\u001b[1;33m\u001b[0m\u001b[1;33m\u001b[0m\u001b[0m\n\u001b[0m\u001b[0;32m      2\u001b[0m \u001b[0mX_test\u001b[0m \u001b[1;33m=\u001b[0m \u001b[0mX_test\u001b[0m\u001b[1;33m.\u001b[0m\u001b[0mastype\u001b[0m\u001b[1;33m(\u001b[0m\u001b[1;34m'float'\u001b[0m\u001b[1;33m)\u001b[0m\u001b[1;33m\u001b[0m\u001b[1;33m\u001b[0m\u001b[0m\n",
      "\u001b[1;31mTypeError\u001b[0m: float() argument must be a string or a number, not 'Timestamp'"
     ]
    }
   ],
   "source": [
    "X_train = X_train.astype('float') # así no son int (causando warnings)\n",
    "X_test = X_test.astype('float')"
   ]
  },
  {
   "cell_type": "code",
   "execution_count": null,
   "metadata": {},
   "outputs": [],
   "source": [
    "X_train.var(axis=0)"
   ]
  },
  {
   "cell_type": "code",
   "execution_count": null,
   "metadata": {},
   "outputs": [],
   "source": [
    "scaler = StandardScaler()\n",
    "X_train_std = scaler.fit_transform(X_train)\n",
    "X_test_std = scaler.transform(X_test)"
   ]
  },
  {
   "cell_type": "code",
   "execution_count": null,
   "metadata": {},
   "outputs": [],
   "source": [
    "X_train_std.var(axis=0)"
   ]
  },
  {
   "cell_type": "code",
   "execution_count": null,
   "metadata": {},
   "outputs": [],
   "source": [
    "model = Sequential()\n",
    "model.add(Dense(32, input_shape=(25,), activation='relu', kernel_regularizer=regularizers.l2(l=0.01)))\n",
    "model.add(Dense(1, activation='relu'))\n",
    "model.compile(loss='binary_crossentropy',\n",
    "              optimizer='adam',\n",
    "#              metrics=['accuracy']\n",
    "             )"
   ]
  },
  {
   "cell_type": "code",
   "execution_count": null,
   "metadata": {},
   "outputs": [],
   "source": [
    "model.summary()"
   ]
  },
  {
   "cell_type": "code",
   "execution_count": null,
   "metadata": {},
   "outputs": [],
   "source": [
    "from IPython.display import SVG\n",
    "from keras.utils.vis_utils import model_to_dot\n",
    "SVG(model_to_dot(model,show_shapes=True).create(prog='dot', format='svg'))"
   ]
  },
  {
   "cell_type": "code",
   "execution_count": null,
   "metadata": {},
   "outputs": [],
   "source": [
    "model.fit(X_train_std, y_train, epochs=200)"
   ]
  },
  {
   "cell_type": "code",
   "execution_count": null,
   "metadata": {},
   "outputs": [],
   "source": [
    "probabilidad_train_predicha = model.predict(X_train_std).flatten()\n",
    "probabilidad_test_predicha = model.predict(X_test_std).flatten()\n",
    "probabilidad_test_predicha"
   ]
  },
  {
   "cell_type": "code",
   "execution_count": null,
   "metadata": {},
   "outputs": [],
   "source": [
    "print(\"Scoring training:\", np.mean(probabilidad_train_predicha.round() == y_train))\n",
    "print(\"Scoring test    :\", np.mean(probabilidad_test_predicha.round() == y_test))"
   ]
  },
  {
   "cell_type": "code",
   "execution_count": null,
   "metadata": {},
   "outputs": [],
   "source": [
    "def mean_absolute_percentage_error(y_true, y_pred): \n",
    "    y_true, y_pred = np.array(y_true), np.array(y_pred)\n",
    "    return np.mean(np.abs((y_true - y_pred) / y_true)) * 100"
   ]
  },
  {
   "cell_type": "code",
   "execution_count": null,
   "metadata": {},
   "outputs": [],
   "source": [
    "mean_absolute_percentage_error(y_test, model.predict(X_test_std))"
   ]
  },
  {
   "cell_type": "markdown",
   "metadata": {},
   "source": [
    "# SIGUIENTES STEPS:\n",
    "## Prioridad:\n",
    "* **1. Todos: Modificar este LSTM para que corra**\n",
    "* **2. Alberto: Si Manuel te iba a dar algo conseguirlo**\n",
    "\n",
    "    "
   ]
  },
  {
   "cell_type": "code",
   "execution_count": null,
   "metadata": {},
   "outputs": [],
   "source": []
  }
 ],
 "metadata": {
  "kernelspec": {
   "display_name": "Python 3",
   "language": "python",
   "name": "python3"
  },
  "language_info": {
   "codemirror_mode": {
    "name": "ipython",
    "version": 3
   },
   "file_extension": ".py",
   "mimetype": "text/x-python",
   "name": "python",
   "nbconvert_exporter": "python",
   "pygments_lexer": "ipython3",
   "version": "3.7.1"
  }
 },
 "nbformat": 4,
 "nbformat_minor": 2
}
