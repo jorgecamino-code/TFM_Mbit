{
 "cells": [
  {
   "cell_type": "code",
   "execution_count": 2,
   "metadata": {},
   "outputs": [],
   "source": [
    "import warnings\n",
    "import pandas as pd\n",
    "import numpy as np\n",
    "import matplotlib.pyplot as plt\n",
    "import datetime\n",
    "import holidays\n",
    "%matplotlib inline"
   ]
  },
  {
   "cell_type": "code",
   "execution_count": 3,
   "metadata": {},
   "outputs": [],
   "source": [
    "# ELimina los warnings en la salida de la celda\n",
    "warnings.simplefilter('ignore')"
   ]
  },
  {
   "cell_type": "code",
   "execution_count": 4,
   "metadata": {},
   "outputs": [],
   "source": [
    "# Carga de datos de fichero pickle (9010, 31306) Ultimos 30 Años\n",
    "data_sp = pd.read_pickle(\"C:/Users/Carap/OneDrive/Escritorio/Proyecto/datasets/data componentes SP500.pkl\")"
   ]
  },
  {
   "cell_type": "code",
   "execution_count": 5,
   "metadata": {},
   "outputs": [],
   "source": [
    "data_sp_copy = data_sp"
   ]
  },
  {
   "cell_type": "code",
   "execution_count": 6,
   "metadata": {},
   "outputs": [],
   "source": [
    "# Definir Año para filtrar\n",
    "start_date  =  '2014-10-08'\n",
    "data_sp['date'] = data_sp_copy.index\n",
    "data_sp_copy = data_sp_copy.reset_index(drop=True)"
   ]
  },
  {
   "cell_type": "code",
   "execution_count": 7,
   "metadata": {},
   "outputs": [],
   "source": [
    "# Aqui se filtra\n",
    "data_sp_copy['date']=pd.to_datetime(data_sp_copy['date'])\n",
    "datefilter  =  (data_sp_copy['date']  >  start_date )\n",
    "data_sp_copy  =  data_sp_copy.loc[datefilter] "
   ]
  },
  {
   "cell_type": "code",
   "execution_count": 8,
   "metadata": {},
   "outputs": [],
   "source": [
    "# resetear index\n",
    "data_sp_copy.index = range(data_sp_copy.shape[0])"
   ]
  },
  {
   "cell_type": "code",
   "execution_count": 9,
   "metadata": {},
   "outputs": [],
   "source": [
    "# guardar date en dataframe \n",
    "date = pd.DataFrame(data_sp_copy['date'])\n",
    "date['date'] =  pd.to_datetime(date['date'])"
   ]
  },
  {
   "cell_type": "code",
   "execution_count": 10,
   "metadata": {
    "scrolled": false
   },
   "outputs": [],
   "source": [
    "# extraer nombres de compañias\n",
    "company=[]\n",
    "for i in data_sp_copy.columns:\n",
    "    company.append(i[0]) "
   ]
  },
  {
   "cell_type": "code",
   "execution_count": 11,
   "metadata": {},
   "outputs": [],
   "source": [
    "company = list(dict.fromkeys(company))"
   ]
  },
  {
   "cell_type": "code",
   "execution_count": 12,
   "metadata": {},
   "outputs": [],
   "source": [
    "# elimino date\n",
    "removeWord = ['date']\n",
    "company = [word for word in company if word not in removeWord]"
   ]
  },
  {
   "cell_type": "code",
   "execution_count": 13,
   "metadata": {},
   "outputs": [],
   "source": [
    "# creo una lista con cada companias como dataframe\n",
    "dataframes = []\n",
    "for i in company:\n",
    "    dataframes.append(data_sp_copy[i])"
   ]
  },
  {
   "cell_type": "code",
   "execution_count": 14,
   "metadata": {},
   "outputs": [],
   "source": [
    "# creo la columna Date con la fecha\n",
    "for i in enumerate(dataframes):\n",
    "     i[1]['Date'] = date['date']"
   ]
  },
  {
   "cell_type": "code",
   "execution_count": 15,
   "metadata": {},
   "outputs": [],
   "source": [
    "## Crear dataframe de tiempo con todos los dias (porque no estaban en el Accurate Quand data)\n",
    "Timeframe = pd.date_range(start='10/08/2014', end='10/08/2019')\n",
    "Timeframe = pd.DataFrame(Timeframe)\n",
    "Timeframe.columns = ['Date']"
   ]
  },
  {
   "cell_type": "code",
   "execution_count": 16,
   "metadata": {},
   "outputs": [],
   "source": [
    "# Añado los días que faltaban\n",
    "for i in dataframes:\n",
    "    i = pd.merge(i, Timeframe, on='Date', how='outer')\n",
    "    i.sort_values(by = ['Date'], inplace = True)\n",
    "    i = i.reset_index(drop=True)"
   ]
  },
  {
   "cell_type": "code",
   "execution_count": 17,
   "metadata": {},
   "outputs": [],
   "source": [
    "# Crear una variable para cada dataframe\n",
    "# for i, val in enumerate(dataframes): \n",
    "#     globals()[\"dataframe_Sep_%d\"%i] = val"
   ]
  },
  {
   "cell_type": "code",
   "execution_count": 18,
   "metadata": {},
   "outputs": [],
   "source": [
    "# obtengo los holidays para UnitedStates en una lista para los años 2015-16-17-18-19\n",
    "years = [2014, 2015, 2016, 2017, 2018, 2019]\n",
    "holidays_date = []\n",
    "for i in years:\n",
    "    for j in holidays.UnitedStates(years=i).items():\n",
    "        holidays_date.append(str(j[0]))"
   ]
  },
  {
   "cell_type": "code",
   "execution_count": 19,
   "metadata": {},
   "outputs": [],
   "source": [
    "# Se crea una columna con 1 si el dia coincide con la lista creada de dias holidays\n",
    "for i in enumerate(dataframes):\n",
    "    i[1].loc[i[1]['Date'].isin(holidays_date), 'Holiday'] = '1'\n",
    "    i[1].loc[~i[1]['Date'].isin(holidays_date), 'Holiday'] = '0'"
   ]
  },
  {
   "cell_type": "code",
   "execution_count": 20,
   "metadata": {},
   "outputs": [],
   "source": [
    "# Creo la columna Profitability ((close-open)/open*100) y Day_Week\n",
    "# Si Week_day es Sabado o domingo o esa fecha es festiva ponme un 0 en el profitability porque no ha habido movimiento\n",
    "for i in dataframes:\n",
    "    i['Day_Week'] = i['Date'].dt.weekday_name\n",
    "    i['Month'] = i['Date'].dt.month\n",
    "    i['YearMonth'] = i['Date'].dt.to_period('M')\n",
    "    i['Profitability'] = (i['close']-i['open'])/i['open']*100\n",
    "    i.loc[(i['Day_Week'] == 'Saturday') | (i['Day_Week'] == 'Sunday') | (i['Holiday'] == 1), 'Profitability'] = 0"
   ]
  },
  {
   "cell_type": "code",
   "execution_count": 21,
   "metadata": {},
   "outputs": [],
   "source": [
    "# creo la columna company con cada nombre de la compañia\n",
    "j=0\n",
    "for i in company:\n",
    "    dataframes[j]['Company'] = i\n",
    "    j += 1"
   ]
  },
  {
   "cell_type": "code",
   "execution_count": 22,
   "metadata": {},
   "outputs": [],
   "source": [
    "# create list to remove some elements from the list of dataframes that do not mathc a condition\n",
    "delete_dataframes = []"
   ]
  },
  {
   "cell_type": "code",
   "execution_count": 23,
   "metadata": {},
   "outputs": [],
   "source": [
    "# Eliminate dataframes from list that have a number of NAs in PROFITABILITY is higher than 15%\n",
    "for j,i in enumerate(dataframes):\n",
    "    if i['Profitability'].isnull().mean() < 0.15:\n",
    "        delete_dataframes.append(j)\n",
    "dataframes = [x for j, x in enumerate(dataframes) if j in delete_dataframes]"
   ]
  },
  {
   "cell_type": "code",
   "execution_count": 24,
   "metadata": {},
   "outputs": [],
   "source": [
    "# Eliminate columns that have a number of NAs higher than 25%\n",
    "for i in dataframes:\n",
    "    null_columns=list(i.columns[i.isnull().any()])\n",
    "\n",
    "    for j in null_columns:\n",
    "        if i[j].isnull().mean() < 0.25:\n",
    "            pass\n",
    "        else: \n",
    "            i = i.drop(columns=[j])"
   ]
  },
  {
   "cell_type": "code",
   "execution_count": 25,
   "metadata": {},
   "outputs": [],
   "source": [
    "# Create a list of false predictors\n",
    "false_predictors = ['open', 'high', 'low', 'close', 'bid', 'ask']"
   ]
  },
  {
   "cell_type": "code",
   "execution_count": 26,
   "metadata": {},
   "outputs": [],
   "source": [
    "# Eliminate the columns that have the false predictors\n",
    "j = 0\n",
    "for i in dataframes[j].columns:\n",
    "    for x in false_predictors:\n",
    "        if i==x:\n",
    "            dataframes[j] = dataframes[j].drop(columns=[i])\n",
    "j += 1"
   ]
  },
  {
   "cell_type": "markdown",
   "metadata": {},
   "source": [
    "# TODO BIEEEEEEN"
   ]
  },
  {
   "cell_type": "markdown",
   "metadata": {},
   "source": [
    "# Probar Modelo LSTM -- Notebook: Predicción Fugas"
   ]
  },
  {
   "cell_type": "code",
   "execution_count": 28,
   "metadata": {},
   "outputs": [],
   "source": [
    "test = dataframes.copy()"
   ]
  },
  {
   "cell_type": "code",
   "execution_count": 29,
   "metadata": {},
   "outputs": [],
   "source": [
    "prueba = test"
   ]
  },
  {
   "cell_type": "code",
   "execution_count": 30,
   "metadata": {},
   "outputs": [
    {
     "data": {
      "text/plain": [
       "volume                      157\n",
       "cur_mkt_cap                 158\n",
       "pe_ratio                    158\n",
       "tot_debt_to_tot_asset       158\n",
       "cf_free_cash_flow           158\n",
       "return_tot_eqy              158\n",
       "eqy_sh_out                  158\n",
       "eqy_dvd_yld_ind             158\n",
       "ebitda                      158\n",
       "return_on_inv_capital       158\n",
       "return_on_asset             158\n",
       "return_on_cap               158\n",
       "return_com_eqy              158\n",
       "net_income                  158\n",
       "short_and_long_term_debt    158\n",
       "sales_rev_turn              158\n",
       "gross_profit                158\n",
       "announcement_dt             158\n",
       "total_equity                158\n",
       "close_adj                   158\n",
       "Date                          0\n",
       "Holiday                       0\n",
       "Day_Week                      0\n",
       "Month                         0\n",
       "YearMonth                     0\n",
       "Profitability                17\n",
       "Company                       0\n",
       "dtype: int64"
      ]
     },
     "execution_count": 30,
     "metadata": {},
     "output_type": "execute_result"
    }
   ],
   "source": [
    "prueba[0].isna().sum()"
   ]
  },
  {
   "cell_type": "code",
   "execution_count": 31,
   "metadata": {},
   "outputs": [],
   "source": [
    "prueba[0] = prueba[0][np.isfinite(prueba[0]['Profitability'])]"
   ]
  },
  {
   "cell_type": "code",
   "execution_count": 32,
   "metadata": {},
   "outputs": [
    {
     "name": "stderr",
     "output_type": "stream",
     "text": [
      "Using TensorFlow backend.\n"
     ]
    }
   ],
   "source": [
    "from keras.models import Sequential\n",
    "from keras.layers import Dense,  LSTM\n",
    "from keras import metrics\n",
    "from sklearn.preprocessing import MinMaxScaler\n",
    "from sklearn.model_selection import train_test_split\n",
    "from sklearn.model_selection import GridSearchCV\n",
    "from time import time"
   ]
  },
  {
   "cell_type": "code",
   "execution_count": 33,
   "metadata": {},
   "outputs": [
    {
     "data": {
      "image/png": "[encoded data removed]",
      "text/plain": [
       "<Figure size 432x288 with 1 Axes>"
      ]
     },
     "metadata": {
      "needs_background": "light"
     },
     "output_type": "display_data"
    }
   ],
   "source": [
    "L = len(prueba[0])\n",
    "Y = prueba[0].iloc[:,-2]\n",
    "Y= np.array(Y)\n",
    "Y= Y.reshape(-1,1)\n",
    "plt.plot(Y)\n",
    "plt.show(block= False)"
   ]
  },
  {
   "cell_type": "code",
   "execution_count": 34,
   "metadata": {},
   "outputs": [
    {
     "name": "stdout",
     "output_type": "stream",
     "text": [
      "X shape is (1395, 3)\n",
      "Y shape is (1395, 1)\n"
     ]
    }
   ],
   "source": [
    "X1= Y[0:L-3,:]\n",
    "X2=Y[1:L-2,:]\n",
    "X3=Y[2:L-1,:]\n",
    "Y = Y[3:L,:]\n",
    "X= np.concatenate([X1,X2,X3],axis=1)\n",
    "print(f'X shape is {X.shape}')\n",
    "print(f'Y shape is {Y.shape}')"
   ]
  },
  {
   "cell_type": "code",
   "execution_count": 35,
   "metadata": {},
   "outputs": [],
   "source": [
    "scaler = MinMaxScaler()\n",
    "scaler.fit(X)\n",
    "X = scaler.transform(X)\n",
    "scaler1 = MinMaxScaler()\n",
    "scaler1.fit(Y)\n",
    "Y = scaler1.transform(Y)\n",
    "X= np.reshape(X, (X.shape[0],1,X.shape[1]))"
   ]
  },
  {
   "cell_type": "code",
   "execution_count": 46,
   "metadata": {},
   "outputs": [],
   "source": [
    "X_train = X[:int(1412*0.8),:,:]\n",
    "X_test = X[int(1412*0.8):,:,:]\n",
    "Y_train = Y[:int(1412*0.8),:]\n",
    "Y_test = Y[int(1412*0.8):,:]"
   ]
  },
  {
   "cell_type": "code",
   "execution_count": 108,
   "metadata": {},
   "outputs": [],
   "source": [
    "model = Sequential()\n",
    "model.add(LSTM(50,activation = 'relu',input_shape = (1,3),recurrent_activation= 'hard_sigmoid'))"
   ]
  },
  {
   "cell_type": "code",
   "execution_count": 109,
   "metadata": {},
   "outputs": [],
   "source": [
    "model.add(Dense(3))\n",
    "model.add(Dense(10))\n",
    "model.add(Dense(60))\n",
    "model.add(Dense(20))\n",
    "model.add(Dense(1))"
   ]
  },
  {
   "cell_type": "code",
   "execution_count": 76,
   "metadata": {},
   "outputs": [],
   "source": [
    "# start=time()\n",
    "# optimizers = ['rmsprop', 'adam']\n",
    "# init = ['glorot_uniform', 'normal', 'uniform']\n",
    "# epochs = np.array([50, 100, 150])\n",
    "# batches = np.array([5, 10, 20])\n",
    "# param_grid = dict(optimizer=optimizers, nb_epoch=epochs, batch_size=batches, init=init)\n",
    "# grid = GridSearchCV(estimator=model, param_grid=param_grid, scoring=['r2', 'explained_variance'], refit='r2')"
   ]
  },
  {
   "cell_type": "code",
   "execution_count": 105,
   "metadata": {},
   "outputs": [],
   "source": [
    "def create_model(optimizer='rmsprop'):\n",
    "    model = Sequential()\n",
    "    model.add(LSTM(50,activation = 'relu',input_shape = (1,3),recurrent_activation= 'hard_sigmoid'))\n",
    "    model.add(Dense(10))\n",
    "    model.add(Dense(60))\n",
    "    model.add(Dense(20))\n",
    "    model.add(Dense(1))\n",
    "    model.compile(loss= 'mse',optimizer = 'Adam', metrics=[metrics.mae])\n",
    "    return model"
   ]
  },
  {
   "cell_type": "code",
   "execution_count": 110,
   "metadata": {},
   "outputs": [],
   "source": [
    "    model.compile(loss= 'mse',optimizer = 'Adam', metrics=[metrics.mae])\n"
   ]
  },
  {
   "cell_type": "code",
   "execution_count": 89,
   "metadata": {
    "collapsed": true
   },
   "outputs": [
    {
     "name": "stdout",
     "output_type": "stream",
     "text": [
      "Epoch 1/100\n",
      " - 1s - loss: 0.0077 - mean_absolute_error: 0.0626\n",
      "Epoch 2/100\n",
      " - 0s - loss: 0.0077 - mean_absolute_error: 0.0628\n",
      "Epoch 3/100\n",
      " - 0s - loss: 0.0078 - mean_absolute_error: 0.0647\n",
      "Epoch 4/100\n",
      " - 0s - loss: 0.0078 - mean_absolute_error: 0.0632\n",
      "Epoch 5/100\n",
      " - 0s - loss: 0.0077 - mean_absolute_error: 0.0629\n",
      "Epoch 6/100\n",
      " - 0s - loss: 0.0078 - mean_absolute_error: 0.0628\n",
      "Epoch 7/100\n",
      " - 0s - loss: 0.0078 - mean_absolute_error: 0.0636\n",
      "Epoch 8/100\n",
      " - 0s - loss: 0.0077 - mean_absolute_error: 0.0630\n",
      "Epoch 9/100\n",
      " - 0s - loss: 0.0077 - mean_absolute_error: 0.0630\n",
      "Epoch 10/100\n",
      " - 0s - loss: 0.0077 - mean_absolute_error: 0.0629\n",
      "Epoch 11/100\n",
      " - 0s - loss: 0.0077 - mean_absolute_error: 0.0628\n",
      "Epoch 12/100\n",
      " - 0s - loss: 0.0077 - mean_absolute_error: 0.0626\n",
      "Epoch 13/100\n",
      " - 0s - loss: 0.0077 - mean_absolute_error: 0.0629\n",
      "Epoch 14/100\n",
      " - 0s - loss: 0.0077 - mean_absolute_error: 0.0627\n",
      "Epoch 15/100\n",
      " - 0s - loss: 0.0078 - mean_absolute_error: 0.0635\n",
      "Epoch 16/100\n",
      " - 0s - loss: 0.0077 - mean_absolute_error: 0.0625\n",
      "Epoch 17/100\n",
      " - 0s - loss: 0.0077 - mean_absolute_error: 0.0625\n",
      "Epoch 18/100\n",
      " - 0s - loss: 0.0077 - mean_absolute_error: 0.0625\n",
      "Epoch 19/100\n",
      " - 0s - loss: 0.0077 - mean_absolute_error: 0.0625\n",
      "Epoch 20/100\n",
      " - 0s - loss: 0.0077 - mean_absolute_error: 0.0626\n",
      "Epoch 21/100\n",
      " - 0s - loss: 0.0077 - mean_absolute_error: 0.0629\n",
      "Epoch 22/100\n",
      " - 0s - loss: 0.0077 - mean_absolute_error: 0.0635\n",
      "Epoch 23/100\n",
      " - 0s - loss: 0.0077 - mean_absolute_error: 0.0628\n",
      "Epoch 24/100\n",
      " - 0s - loss: 0.0077 - mean_absolute_error: 0.0624\n",
      "Epoch 25/100\n",
      " - 0s - loss: 0.0077 - mean_absolute_error: 0.0629\n",
      "Epoch 26/100\n",
      " - 0s - loss: 0.0077 - mean_absolute_error: 0.0626\n",
      "Epoch 27/100\n",
      " - 0s - loss: 0.0077 - mean_absolute_error: 0.0632\n",
      "Epoch 28/100\n",
      " - 0s - loss: 0.0077 - mean_absolute_error: 0.0626\n",
      "Epoch 29/100\n",
      " - 0s - loss: 0.0077 - mean_absolute_error: 0.0628\n",
      "Epoch 30/100\n",
      " - 0s - loss: 0.0077 - mean_absolute_error: 0.0629\n",
      "Epoch 31/100\n",
      " - 0s - loss: 0.0077 - mean_absolute_error: 0.0631\n",
      "Epoch 32/100\n",
      " - 0s - loss: 0.0077 - mean_absolute_error: 0.0624\n",
      "Epoch 33/100\n",
      " - 0s - loss: 0.0077 - mean_absolute_error: 0.0625\n",
      "Epoch 34/100\n",
      " - 0s - loss: 0.0077 - mean_absolute_error: 0.0634\n",
      "Epoch 35/100\n",
      " - 0s - loss: 0.0077 - mean_absolute_error: 0.0633\n",
      "Epoch 36/100\n",
      " - 0s - loss: 0.0077 - mean_absolute_error: 0.0625\n",
      "Epoch 37/100\n",
      " - 0s - loss: 0.0077 - mean_absolute_error: 0.0629\n",
      "Epoch 38/100\n",
      " - 0s - loss: 0.0077 - mean_absolute_error: 0.0627\n",
      "Epoch 39/100\n",
      " - 0s - loss: 0.0077 - mean_absolute_error: 0.0631\n",
      "Epoch 40/100\n",
      " - 0s - loss: 0.0077 - mean_absolute_error: 0.0629\n",
      "Epoch 41/100\n",
      " - 0s - loss: 0.0078 - mean_absolute_error: 0.0634\n",
      "Epoch 42/100\n",
      " - 0s - loss: 0.0078 - mean_absolute_error: 0.0632\n",
      "Epoch 43/100\n",
      " - 0s - loss: 0.0076 - mean_absolute_error: 0.0621\n",
      "Epoch 44/100\n",
      " - 0s - loss: 0.0076 - mean_absolute_error: 0.0623\n",
      "Epoch 45/100\n",
      " - 0s - loss: 0.0077 - mean_absolute_error: 0.0627\n",
      "Epoch 46/100\n",
      " - 0s - loss: 0.0077 - mean_absolute_error: 0.0630\n",
      "Epoch 47/100\n",
      " - 0s - loss: 0.0077 - mean_absolute_error: 0.0626\n",
      "Epoch 48/100\n",
      " - 0s - loss: 0.0077 - mean_absolute_error: 0.0623\n",
      "Epoch 49/100\n",
      " - 0s - loss: 0.0076 - mean_absolute_error: 0.0624\n",
      "Epoch 50/100\n",
      " - 0s - loss: 0.0077 - mean_absolute_error: 0.0630\n",
      "Epoch 51/100\n",
      " - 0s - loss: 0.0077 - mean_absolute_error: 0.0625\n",
      "Epoch 52/100\n",
      " - 0s - loss: 0.0077 - mean_absolute_error: 0.0629\n",
      "Epoch 53/100\n",
      " - 0s - loss: 0.0077 - mean_absolute_error: 0.0625\n",
      "Epoch 54/100\n",
      " - 0s - loss: 0.0078 - mean_absolute_error: 0.0634\n",
      "Epoch 55/100\n",
      " - 0s - loss: 0.0077 - mean_absolute_error: 0.0627\n",
      "Epoch 56/100\n",
      " - 0s - loss: 0.0077 - mean_absolute_error: 0.0626\n",
      "Epoch 57/100\n",
      " - 0s - loss: 0.0077 - mean_absolute_error: 0.0636\n",
      "Epoch 58/100\n",
      " - 0s - loss: 0.0077 - mean_absolute_error: 0.0634\n",
      "Epoch 59/100\n",
      " - 0s - loss: 0.0076 - mean_absolute_error: 0.0624\n",
      "Epoch 60/100\n",
      " - 0s - loss: 0.0077 - mean_absolute_error: 0.0627\n",
      "Epoch 61/100\n",
      " - 0s - loss: 0.0076 - mean_absolute_error: 0.0623\n",
      "Epoch 62/100\n",
      " - 0s - loss: 0.0076 - mean_absolute_error: 0.0623\n",
      "Epoch 63/100\n",
      " - 0s - loss: 0.0076 - mean_absolute_error: 0.0627\n",
      "Epoch 64/100\n",
      " - 0s - loss: 0.0078 - mean_absolute_error: 0.0629\n",
      "Epoch 65/100\n",
      " - 0s - loss: 0.0077 - mean_absolute_error: 0.0628\n",
      "Epoch 66/100\n",
      " - 0s - loss: 0.0077 - mean_absolute_error: 0.0634\n",
      "Epoch 67/100\n",
      " - 0s - loss: 0.0076 - mean_absolute_error: 0.0624\n",
      "Epoch 68/100\n",
      " - 0s - loss: 0.0076 - mean_absolute_error: 0.0626\n",
      "Epoch 69/100\n",
      " - 0s - loss: 0.0077 - mean_absolute_error: 0.0628\n",
      "Epoch 70/100\n",
      " - 0s - loss: 0.0077 - mean_absolute_error: 0.0627\n",
      "Epoch 71/100\n",
      " - 0s - loss: 0.0077 - mean_absolute_error: 0.0625\n",
      "Epoch 72/100\n",
      " - 0s - loss: 0.0077 - mean_absolute_error: 0.0629\n",
      "Epoch 73/100\n",
      " - 0s - loss: 0.0077 - mean_absolute_error: 0.0631\n",
      "Epoch 74/100\n",
      " - 0s - loss: 0.0076 - mean_absolute_error: 0.0621\n",
      "Epoch 75/100\n",
      " - 0s - loss: 0.0077 - mean_absolute_error: 0.0626\n",
      "Epoch 76/100\n",
      " - 0s - loss: 0.0077 - mean_absolute_error: 0.0626\n",
      "Epoch 77/100\n",
      " - 0s - loss: 0.0077 - mean_absolute_error: 0.0626\n",
      "Epoch 78/100\n",
      " - 0s - loss: 0.0077 - mean_absolute_error: 0.0627\n",
      "Epoch 79/100\n",
      " - 0s - loss: 0.0076 - mean_absolute_error: 0.0628\n",
      "Epoch 80/100\n",
      " - 0s - loss: 0.0077 - mean_absolute_error: 0.0626\n",
      "Epoch 81/100\n",
      " - 0s - loss: 0.0076 - mean_absolute_error: 0.0625\n",
      "Epoch 82/100\n",
      " - 0s - loss: 0.0076 - mean_absolute_error: 0.0626\n",
      "Epoch 83/100\n",
      " - 0s - loss: 0.0076 - mean_absolute_error: 0.0627\n",
      "Epoch 84/100\n",
      " - 0s - loss: 0.0078 - mean_absolute_error: 0.0635\n",
      "Epoch 85/100\n",
      " - 0s - loss: 0.0076 - mean_absolute_error: 0.0630\n",
      "Epoch 86/100\n",
      " - 0s - loss: 0.0076 - mean_absolute_error: 0.0622\n",
      "Epoch 87/100\n",
      " - 0s - loss: 0.0077 - mean_absolute_error: 0.0633\n",
      "Epoch 88/100\n",
      " - 0s - loss: 0.0077 - mean_absolute_error: 0.0627\n",
      "Epoch 89/100\n",
      " - 0s - loss: 0.0077 - mean_absolute_error: 0.0629\n",
      "Epoch 90/100\n",
      " - 0s - loss: 0.0076 - mean_absolute_error: 0.0621\n",
      "Epoch 91/100\n",
      " - 0s - loss: 0.0077 - mean_absolute_error: 0.0627\n",
      "Epoch 92/100\n",
      " - 0s - loss: 0.0076 - mean_absolute_error: 0.0625\n",
      "Epoch 93/100\n",
      " - 0s - loss: 0.0077 - mean_absolute_error: 0.0627\n",
      "Epoch 94/100\n",
      " - 0s - loss: 0.0076 - mean_absolute_error: 0.0622\n",
      "Epoch 95/100\n",
      " - 0s - loss: 0.0076 - mean_absolute_error: 0.0625\n",
      "Epoch 96/100\n",
      " - 0s - loss: 0.0077 - mean_absolute_error: 0.0626\n",
      "Epoch 97/100\n",
      " - 0s - loss: 0.0078 - mean_absolute_error: 0.0635\n",
      "Epoch 98/100\n",
      " - 0s - loss: 0.0076 - mean_absolute_error: 0.0622\n",
      "Epoch 99/100\n",
      " - 0s - loss: 0.0077 - mean_absolute_error: 0.0626\n",
      "Epoch 100/100\n",
      " - 0s - loss: 0.0077 - mean_absolute_error: 0.0631\n"
     ]
    },
    {
     "data": {
      "text/plain": [
       "<keras.callbacks.History at 0x1fb40543a90>"
      ]
     },
     "execution_count": 89,
     "metadata": {},
     "output_type": "execute_result"
    }
   ],
   "source": [
    "# model.fit(X_train,Y_train,epochs=100,verbose=2)\n",
    "\n",
    "#results = cross_val_score(model, X_train, Y_train, scoring='precision_macro')\n",
    "\n"
   ]
  },
  {
   "cell_type": "markdown",
   "metadata": {},
   "source": [
    "# MIRARRRRRRRRRRRRRRRRRRRRR"
   ]
  },
  {
   "cell_type": "code",
   "execution_count": 111,
   "metadata": {},
   "outputs": [
    {
     "name": "stdout",
     "output_type": "stream",
     "text": [
      "Epoch 1/100\n",
      " - 2s - loss: 0.0326 - mean_absolute_error: 0.1364\n",
      "Epoch 2/100\n",
      " - 0s - loss: 0.0083 - mean_absolute_error: 0.0660\n",
      "Epoch 3/100\n",
      " - 0s - loss: 0.0081 - mean_absolute_error: 0.0638\n",
      "Epoch 4/100\n",
      " - 0s - loss: 0.0080 - mean_absolute_error: 0.0632\n",
      "Epoch 5/100\n",
      " - 0s - loss: 0.0081 - mean_absolute_error: 0.0635\n",
      "Epoch 6/100\n",
      " - 0s - loss: 0.0080 - mean_absolute_error: 0.0631\n",
      "Epoch 7/100\n",
      " - 0s - loss: 0.0080 - mean_absolute_error: 0.0634\n",
      "Epoch 8/100\n",
      " - 0s - loss: 0.0081 - mean_absolute_error: 0.0636\n",
      "Epoch 9/100\n",
      " - 0s - loss: 0.0080 - mean_absolute_error: 0.0633\n",
      "Epoch 10/100\n",
      " - 0s - loss: 0.0081 - mean_absolute_error: 0.0639\n",
      "Epoch 11/100\n",
      " - 0s - loss: 0.0081 - mean_absolute_error: 0.0635\n",
      "Epoch 12/100\n",
      " - 0s - loss: 0.0081 - mean_absolute_error: 0.0644\n",
      "Epoch 13/100\n",
      " - 0s - loss: 0.0080 - mean_absolute_error: 0.0638\n",
      "Epoch 14/100\n",
      " - 0s - loss: 0.0082 - mean_absolute_error: 0.0648\n",
      "Epoch 15/100\n",
      " - 0s - loss: 0.0083 - mean_absolute_error: 0.0650\n",
      "Epoch 16/100\n",
      " - 0s - loss: 0.0082 - mean_absolute_error: 0.0645\n",
      "Epoch 17/100\n",
      " - 0s - loss: 0.0082 - mean_absolute_error: 0.0646\n",
      "Epoch 18/100\n",
      " - 0s - loss: 0.0080 - mean_absolute_error: 0.0630\n",
      "Epoch 19/100\n",
      " - 0s - loss: 0.0081 - mean_absolute_error: 0.0643\n",
      "Epoch 20/100\n",
      " - 0s - loss: 0.0081 - mean_absolute_error: 0.0656\n",
      "Epoch 21/100\n",
      " - 0s - loss: 0.0081 - mean_absolute_error: 0.0640\n",
      "Epoch 22/100\n",
      " - 0s - loss: 0.0083 - mean_absolute_error: 0.0657\n",
      "Epoch 23/100\n",
      " - 0s - loss: 0.0080 - mean_absolute_error: 0.0639\n",
      "Epoch 24/100\n",
      " - 0s - loss: 0.0081 - mean_absolute_error: 0.0644\n",
      "Epoch 25/100\n",
      " - 0s - loss: 0.0081 - mean_absolute_error: 0.0641\n",
      "Epoch 26/100\n",
      " - 0s - loss: 0.0082 - mean_absolute_error: 0.0648\n",
      "Epoch 27/100\n",
      " - 0s - loss: 0.0081 - mean_absolute_error: 0.0647\n",
      "Epoch 28/100\n",
      " - 0s - loss: 0.0080 - mean_absolute_error: 0.0636\n",
      "Epoch 29/100\n",
      " - 0s - loss: 0.0081 - mean_absolute_error: 0.0643\n",
      "Epoch 30/100\n",
      " - 0s - loss: 0.0081 - mean_absolute_error: 0.0646\n",
      "Epoch 31/100\n",
      " - 0s - loss: 0.0082 - mean_absolute_error: 0.0649\n",
      "Epoch 32/100\n",
      " - 0s - loss: 0.0080 - mean_absolute_error: 0.0633\n",
      "Epoch 33/100\n",
      " - 0s - loss: 0.0081 - mean_absolute_error: 0.0642\n",
      "Epoch 34/100\n",
      " - 0s - loss: 0.0080 - mean_absolute_error: 0.0638\n",
      "Epoch 35/100\n",
      " - 0s - loss: 0.0082 - mean_absolute_error: 0.0652\n",
      "Epoch 36/100\n",
      " - 0s - loss: 0.0081 - mean_absolute_error: 0.0644\n",
      "Epoch 37/100\n",
      " - 0s - loss: 0.0080 - mean_absolute_error: 0.0636\n",
      "Epoch 38/100\n",
      " - 0s - loss: 0.0081 - mean_absolute_error: 0.0644\n",
      "Epoch 39/100\n",
      " - 0s - loss: 0.0080 - mean_absolute_error: 0.0641\n",
      "Epoch 40/100\n",
      " - 0s - loss: 0.0080 - mean_absolute_error: 0.0637\n",
      "Epoch 41/100\n",
      " - 0s - loss: 0.0080 - mean_absolute_error: 0.0636\n",
      "Epoch 42/100\n",
      " - 0s - loss: 0.0082 - mean_absolute_error: 0.0649\n",
      "Epoch 43/100\n",
      " - 0s - loss: 0.0080 - mean_absolute_error: 0.0637\n",
      "Epoch 44/100\n",
      " - 0s - loss: 0.0080 - mean_absolute_error: 0.0636\n",
      "Epoch 45/100\n",
      " - 0s - loss: 0.0080 - mean_absolute_error: 0.0638\n",
      "Epoch 46/100\n",
      " - 0s - loss: 0.0080 - mean_absolute_error: 0.0636\n",
      "Epoch 47/100\n",
      " - 0s - loss: 0.0084 - mean_absolute_error: 0.0667\n",
      "Epoch 48/100\n",
      " - 0s - loss: 0.0082 - mean_absolute_error: 0.0649\n",
      "Epoch 49/100\n",
      " - 0s - loss: 0.0081 - mean_absolute_error: 0.0646\n",
      "Epoch 50/100\n",
      " - 0s - loss: 0.0080 - mean_absolute_error: 0.0635\n",
      "Epoch 51/100\n",
      " - 0s - loss: 0.0080 - mean_absolute_error: 0.0636\n",
      "Epoch 52/100\n",
      " - 0s - loss: 0.0081 - mean_absolute_error: 0.0642\n",
      "Epoch 53/100\n",
      " - 0s - loss: 0.0080 - mean_absolute_error: 0.0636\n",
      "Epoch 54/100\n",
      " - 0s - loss: 0.0080 - mean_absolute_error: 0.0634\n",
      "Epoch 55/100\n",
      " - 0s - loss: 0.0081 - mean_absolute_error: 0.0643\n",
      "Epoch 56/100\n",
      " - 0s - loss: 0.0081 - mean_absolute_error: 0.0643\n",
      "Epoch 57/100\n",
      " - 0s - loss: 0.0080 - mean_absolute_error: 0.0633\n",
      "Epoch 58/100\n",
      " - 0s - loss: 0.0081 - mean_absolute_error: 0.0644\n",
      "Epoch 59/100\n",
      " - 0s - loss: 0.0080 - mean_absolute_error: 0.0641\n",
      "Epoch 60/100\n",
      " - 0s - loss: 0.0080 - mean_absolute_error: 0.0632\n",
      "Epoch 61/100\n",
      " - 0s - loss: 0.0081 - mean_absolute_error: 0.0642\n",
      "Epoch 62/100\n",
      " - 0s - loss: 0.0081 - mean_absolute_error: 0.0635\n",
      "Epoch 63/100\n",
      " - 0s - loss: 0.0080 - mean_absolute_error: 0.0638\n",
      "Epoch 64/100\n",
      " - 0s - loss: 0.0081 - mean_absolute_error: 0.0643\n",
      "Epoch 65/100\n",
      " - 0s - loss: 0.0080 - mean_absolute_error: 0.0637\n",
      "Epoch 66/100\n",
      " - 0s - loss: 0.0080 - mean_absolute_error: 0.0638\n",
      "Epoch 67/100\n",
      " - 0s - loss: 0.0080 - mean_absolute_error: 0.0637\n",
      "Epoch 68/100\n",
      " - 0s - loss: 0.0083 - mean_absolute_error: 0.0655\n",
      "Epoch 69/100\n",
      " - 0s - loss: 0.0080 - mean_absolute_error: 0.0635\n",
      "Epoch 70/100\n",
      " - 0s - loss: 0.0081 - mean_absolute_error: 0.0652\n",
      "Epoch 71/100\n",
      " - 0s - loss: 0.0080 - mean_absolute_error: 0.0632\n",
      "Epoch 72/100\n",
      " - 0s - loss: 0.0081 - mean_absolute_error: 0.0644\n",
      "Epoch 73/100\n",
      " - 0s - loss: 0.0080 - mean_absolute_error: 0.0636\n",
      "Epoch 74/100\n",
      " - 0s - loss: 0.0080 - mean_absolute_error: 0.0638\n",
      "Epoch 75/100\n",
      " - 0s - loss: 0.0079 - mean_absolute_error: 0.0630\n",
      "Epoch 76/100\n",
      " - 0s - loss: 0.0081 - mean_absolute_error: 0.0646\n",
      "Epoch 77/100\n",
      " - 0s - loss: 0.0082 - mean_absolute_error: 0.0646\n",
      "Epoch 78/100\n",
      " - 0s - loss: 0.0080 - mean_absolute_error: 0.0634\n",
      "Epoch 79/100\n",
      " - 0s - loss: 0.0082 - mean_absolute_error: 0.0650\n",
      "Epoch 80/100\n",
      " - 0s - loss: 0.0079 - mean_absolute_error: 0.0634\n",
      "Epoch 81/100\n",
      " - 0s - loss: 0.0080 - mean_absolute_error: 0.0636\n",
      "Epoch 82/100\n",
      " - 0s - loss: 0.0079 - mean_absolute_error: 0.0636\n",
      "Epoch 83/100\n",
      " - 0s - loss: 0.0080 - mean_absolute_error: 0.0636\n",
      "Epoch 84/100\n",
      " - 0s - loss: 0.0079 - mean_absolute_error: 0.0630\n",
      "Epoch 85/100\n",
      " - 0s - loss: 0.0081 - mean_absolute_error: 0.0638\n",
      "Epoch 86/100\n",
      " - 0s - loss: 0.0079 - mean_absolute_error: 0.0632\n",
      "Epoch 87/100\n",
      " - 0s - loss: 0.0082 - mean_absolute_error: 0.0647\n",
      "Epoch 88/100\n",
      " - 0s - loss: 0.0080 - mean_absolute_error: 0.0636\n",
      "Epoch 89/100\n",
      " - 0s - loss: 0.0080 - mean_absolute_error: 0.0633\n",
      "Epoch 90/100\n",
      " - 0s - loss: 0.0080 - mean_absolute_error: 0.0635\n",
      "Epoch 91/100\n",
      " - 0s - loss: 0.0080 - mean_absolute_error: 0.0635\n",
      "Epoch 92/100\n",
      " - 0s - loss: 0.0080 - mean_absolute_error: 0.0635\n",
      "Epoch 93/100\n",
      " - 0s - loss: 0.0080 - mean_absolute_error: 0.0637\n",
      "Epoch 94/100\n",
      " - 0s - loss: 0.0080 - mean_absolute_error: 0.0631\n",
      "Epoch 95/100\n",
      " - 0s - loss: 0.0080 - mean_absolute_error: 0.0634\n",
      "Epoch 96/100\n",
      " - 0s - loss: 0.0079 - mean_absolute_error: 0.0634\n",
      "Epoch 97/100\n",
      " - 0s - loss: 0.0081 - mean_absolute_error: 0.0639\n",
      "Epoch 98/100\n",
      " - 0s - loss: 0.0081 - mean_absolute_error: 0.0640\n",
      "Epoch 99/100\n",
      " - 0s - loss: 0.0081 - mean_absolute_error: 0.0645\n",
      "Epoch 100/100\n",
      " - 0s - loss: 0.0080 - mean_absolute_error: 0.0633\n"
     ]
    },
    {
     "ename": "TypeError",
     "evalue": "estimator should be an estimator implementing 'fit' method, <keras.callbacks.History object at 0x000001FB424E5DD8> was passed",
     "output_type": "error",
     "traceback": [
      "\u001b[1;31m---------------------------------------------------------------------------\u001b[0m",
      "\u001b[1;31mTypeError\u001b[0m                                 Traceback (most recent call last)",
      "\u001b[1;32m<ipython-input-111-76d687c57c78>\u001b[0m in \u001b[0;36m<module>\u001b[1;34m\u001b[0m\n\u001b[0;32m      5\u001b[0m                    \u001b[0mscoring\u001b[0m\u001b[1;33m=\u001b[0m\u001b[1;33m[\u001b[0m\u001b[1;34m'r2'\u001b[0m\u001b[1;33m,\u001b[0m \u001b[1;34m'explained_variance'\u001b[0m\u001b[1;33m]\u001b[0m\u001b[1;33m,\u001b[0m\u001b[1;33m\u001b[0m\u001b[1;33m\u001b[0m\u001b[0m\n\u001b[0;32m      6\u001b[0m                     refit='r2')\n\u001b[1;32m----> 7\u001b[1;33m \u001b[0mgrid_results\u001b[0m \u001b[1;33m=\u001b[0m \u001b[0mgrid\u001b[0m\u001b[1;33m.\u001b[0m\u001b[0mfit\u001b[0m\u001b[1;33m(\u001b[0m\u001b[0mX_train\u001b[0m\u001b[1;33m,\u001b[0m\u001b[0mY_train\u001b[0m\u001b[1;33m)\u001b[0m\u001b[1;33m\u001b[0m\u001b[1;33m\u001b[0m\u001b[0m\n\u001b[0m",
      "\u001b[1;32m~\\Anaconda3\\lib\\site-packages\\sklearn\\model_selection\\_search.py\u001b[0m in \u001b[0;36mfit\u001b[1;34m(self, X, y, groups, **fit_params)\u001b[0m\n\u001b[0;32m    652\u001b[0m \u001b[1;33m\u001b[0m\u001b[0m\n\u001b[0;32m    653\u001b[0m         scorers, self.multimetric_ = _check_multimetric_scoring(\n\u001b[1;32m--> 654\u001b[1;33m             self.estimator, scoring=self.scoring)\n\u001b[0m\u001b[0;32m    655\u001b[0m \u001b[1;33m\u001b[0m\u001b[0m\n\u001b[0;32m    656\u001b[0m         \u001b[1;32mif\u001b[0m \u001b[0mself\u001b[0m\u001b[1;33m.\u001b[0m\u001b[0mmultimetric_\u001b[0m\u001b[1;33m:\u001b[0m\u001b[1;33m\u001b[0m\u001b[1;33m\u001b[0m\u001b[0m\n",
      "\u001b[1;32m~\\Anaconda3\\lib\\site-packages\\sklearn\\metrics\\scorer.py\u001b[0m in \u001b[0;36m_check_multimetric_scoring\u001b[1;34m(estimator, scoring)\u001b[0m\n\u001b[0;32m    379\u001b[0m                                          % repr(scoring))\n\u001b[0;32m    380\u001b[0m                 scorers = {scorer: check_scoring(estimator, scoring=scorer)\n\u001b[1;32m--> 381\u001b[1;33m                            for scorer in scoring}\n\u001b[0m\u001b[0;32m    382\u001b[0m             \u001b[1;32melse\u001b[0m\u001b[1;33m:\u001b[0m\u001b[1;33m\u001b[0m\u001b[1;33m\u001b[0m\u001b[0m\n\u001b[0;32m    383\u001b[0m                 raise ValueError(err_msg +\n",
      "\u001b[1;32m~\\Anaconda3\\lib\\site-packages\\sklearn\\metrics\\scorer.py\u001b[0m in \u001b[0;36m<dictcomp>\u001b[1;34m(.0)\u001b[0m\n\u001b[0;32m    379\u001b[0m                                          % repr(scoring))\n\u001b[0;32m    380\u001b[0m                 scorers = {scorer: check_scoring(estimator, scoring=scorer)\n\u001b[1;32m--> 381\u001b[1;33m                            for scorer in scoring}\n\u001b[0m\u001b[0;32m    382\u001b[0m             \u001b[1;32melse\u001b[0m\u001b[1;33m:\u001b[0m\u001b[1;33m\u001b[0m\u001b[1;33m\u001b[0m\u001b[0m\n\u001b[0;32m    383\u001b[0m                 raise ValueError(err_msg +\n",
      "\u001b[1;32m~\\Anaconda3\\lib\\site-packages\\sklearn\\metrics\\scorer.py\u001b[0m in \u001b[0;36mcheck_scoring\u001b[1;34m(estimator, scoring, allow_none)\u001b[0m\n\u001b[0;32m    269\u001b[0m     \u001b[1;32mif\u001b[0m \u001b[1;32mnot\u001b[0m \u001b[0mhasattr\u001b[0m\u001b[1;33m(\u001b[0m\u001b[0mestimator\u001b[0m\u001b[1;33m,\u001b[0m \u001b[1;34m'fit'\u001b[0m\u001b[1;33m)\u001b[0m\u001b[1;33m:\u001b[0m\u001b[1;33m\u001b[0m\u001b[1;33m\u001b[0m\u001b[0m\n\u001b[0;32m    270\u001b[0m         raise TypeError(\"estimator should be an estimator implementing \"\n\u001b[1;32m--> 271\u001b[1;33m                         \"'fit' method, %r was passed\" % estimator)\n\u001b[0m\u001b[0;32m    272\u001b[0m     \u001b[1;32mif\u001b[0m \u001b[0misinstance\u001b[0m\u001b[1;33m(\u001b[0m\u001b[0mscoring\u001b[0m\u001b[1;33m,\u001b[0m \u001b[0msix\u001b[0m\u001b[1;33m.\u001b[0m\u001b[0mstring_types\u001b[0m\u001b[1;33m)\u001b[0m\u001b[1;33m:\u001b[0m\u001b[1;33m\u001b[0m\u001b[1;33m\u001b[0m\u001b[0m\n\u001b[0;32m    273\u001b[0m         \u001b[1;32mreturn\u001b[0m \u001b[0mget_scorer\u001b[0m\u001b[1;33m(\u001b[0m\u001b[0mscoring\u001b[0m\u001b[1;33m)\u001b[0m\u001b[1;33m\u001b[0m\u001b[1;33m\u001b[0m\u001b[0m\n",
      "\u001b[1;31mTypeError\u001b[0m: estimator should be an estimator implementing 'fit' method, <keras.callbacks.History object at 0x000001FB424E5DD8> was passed"
     ]
    }
   ],
   "source": [
    "param_grid = {'optimizer':('rmsprop','adam')}\n",
    "grid = GridSearchCV(model.fit(X_train,Y_train, epochs=100, verbose=2),\n",
    "                    param_grid=param_grid,\n",
    "                    return_train_score=True,\n",
    "                   scoring=['r2', 'explained_variance'],\n",
    "                    refit='r2')\n",
    "grid_results = grid.fit(X_train,Y_train)"
   ]
  },
  {
   "cell_type": "code",
   "execution_count": 78,
   "metadata": {},
   "outputs": [],
   "source": [
    "# grid_result = grid.fit(X_train, Y_train)\n",
    "# print(\"Best: %f using %s\" % (grid_result.best_score_, grid_result.best_params_))\n",
    "# for params, mean_score, scores in grid_result.grid_scores_:\n",
    "#     print(\"%f (%f) with: %r\" % (scores.mean(), scores.std(), params))\n",
    "# print(\"total time:\",time()-start)"
   ]
  },
  {
   "cell_type": "markdown",
   "metadata": {},
   "source": [
    "# MIrar NAns Predicciones"
   ]
  },
  {
   "cell_type": "code",
   "execution_count": null,
   "metadata": {},
   "outputs": [
    {
     "name": "stdout",
     "output_type": "stream",
     "text": [
      "Epoch 1/100\n",
      " - 28s - loss: 0.0332 - mean_absolute_error: 0.1378\n",
      "Epoch 2/100\n",
      " - 1s - loss: 0.0084 - mean_absolute_error: 0.0663\n",
      "Epoch 3/100\n",
      " - 1s - loss: 0.0081 - mean_absolute_error: 0.0635\n",
      "Epoch 4/100\n",
      " - 1s - loss: 0.0081 - mean_absolute_error: 0.0631\n",
      "Epoch 5/100\n",
      " - 1s - loss: 0.0081 - mean_absolute_error: 0.0642\n",
      "Epoch 6/100\n",
      " - 1s - loss: 0.0080 - mean_absolute_error: 0.0637\n",
      "Epoch 7/100\n",
      " - 1s - loss: 0.0080 - mean_absolute_error: 0.0632\n",
      "Epoch 8/100\n",
      " - 1s - loss: 0.0081 - mean_absolute_error: 0.0636\n",
      "Epoch 9/100\n"
     ]
    }
   ],
   "source": [
    "model.compile(loss= 'mse',optimizer = 'Adam', metrics=[metrics.mae])\n",
    "model.fit(X_train,Y_train,epochs=100,verbose=2)\n",
    "Predict = model.predict(X_test)"
   ]
  },
  {
   "cell_type": "code",
   "execution_count": 381,
   "metadata": {},
   "outputs": [
    {
     "data": {
      "text/plain": [
       "array([[0.3680157 ],\n",
       "       [0.3743999 ],\n",
       "       [0.383246  ],\n",
       "       [0.3968598 ],\n",
       "       [0.37192786],\n",
       "       [0.36606526],\n",
       "       [0.36718643],\n",
       "       [0.44506907],\n",
       "       [0.37795466],\n",
       "       [0.38786677],\n",
       "       [0.3657958 ],\n",
       "       [0.36573952],\n",
       "       [0.38394374],\n",
       "       [0.40817   ],\n",
       "       [0.38095778],\n",
       "       [0.36623508],\n",
       "       [0.36773726],\n",
       "       [0.40386754],\n",
       "       [0.3655172 ],\n",
       "       [0.3659522 ],\n",
       "       [0.39686286],\n",
       "       [0.40886825],\n",
       "       [0.36918676],\n",
       "       [0.3659363 ],\n",
       "       [0.39301038],\n",
       "       [0.38138372],\n",
       "       [0.37738556],\n",
       "       [0.37741035],\n",
       "       [0.3759362 ],\n",
       "       [0.36577538],\n",
       "       [0.39151138],\n",
       "       [0.3984644 ],\n",
       "       [0.3939241 ],\n",
       "       [0.36552706],\n",
       "       [0.37061274],\n",
       "       [0.36931807],\n",
       "       [0.36608174],\n",
       "       [0.42697036],\n",
       "       [0.3692047 ],\n",
       "       [0.36598626],\n",
       "       [0.3813379 ],\n",
       "       [0.3845622 ],\n",
       "       [0.38410854],\n",
       "       [0.36581564],\n",
       "       [0.3907771 ],\n",
       "       [0.38826144],\n",
       "       [0.3846041 ],\n",
       "       [0.36573446],\n",
       "       [0.40796357],\n",
       "       [0.36789984],\n",
       "       [0.3812698 ],\n",
       "       [0.3691631 ],\n",
       "       [0.37093514],\n",
       "       [0.3769945 ],\n",
       "       [0.37734172],\n",
       "       [0.37693924],\n",
       "       [0.37349576],\n",
       "       [0.36560518],\n",
       "       [0.37728867],\n",
       "       [0.37438273],\n",
       "       [0.37616074],\n",
       "       [0.37020266],\n",
       "       [0.38980824],\n",
       "       [0.3674062 ],\n",
       "       [0.44182462],\n",
       "       [0.39017045],\n",
       "       [0.3657993 ],\n",
       "       [0.3957498 ],\n",
       "       [0.41230184],\n",
       "       [0.38347495],\n",
       "       [0.3688693 ],\n",
       "       [0.39909202],\n",
       "       [0.37714154],\n",
       "       [0.37554955],\n",
       "       [0.37850595],\n",
       "       [0.3938755 ],\n",
       "       [0.37969905],\n",
       "       [0.3909126 ],\n",
       "       [0.36564732],\n",
       "       [0.36767173],\n",
       "       [0.39359182],\n",
       "       [0.38558662],\n",
       "       [0.36570707],\n",
       "       [0.36704558],\n",
       "       [0.38951638],\n",
       "       [0.37760645],\n",
       "       [0.38212836],\n",
       "       [0.3657305 ],\n",
       "       [0.37582713],\n",
       "       [0.40108424],\n",
       "       [0.38288054],\n",
       "       [0.37606147],\n",
       "       [0.3682741 ],\n",
       "       [0.37546933],\n",
       "       [0.38673395],\n",
       "       [0.36569053],\n",
       "       [0.3759051 ],\n",
       "       [0.38005382],\n",
       "       [0.3795597 ],\n",
       "       [0.37728053],\n",
       "       [0.36691883],\n",
       "       [0.3853669 ],\n",
       "       [0.36580265],\n",
       "       [0.3759587 ],\n",
       "       [0.38380426],\n",
       "       [0.3741217 ],\n",
       "       [0.3885101 ],\n",
       "       [0.3656764 ],\n",
       "       [0.37465662],\n",
       "       [0.37415132],\n",
       "       [0.38654613],\n",
       "       [0.40243834],\n",
       "       [0.36937195],\n",
       "       [0.37338328],\n",
       "       [0.36562693],\n",
       "       [0.36843187],\n",
       "       [0.36572474],\n",
       "       [0.3768083 ],\n",
       "       [0.3887459 ],\n",
       "       [0.37180227],\n",
       "       [0.37574202],\n",
       "       [0.3836538 ],\n",
       "       [0.37750906],\n",
       "       [0.37776923],\n",
       "       [0.36572996],\n",
       "       [0.43440694],\n",
       "       [0.37122905],\n",
       "       [0.37057728],\n",
       "       [0.3755302 ],\n",
       "       [0.39800498],\n",
       "       [0.36558133],\n",
       "       [0.36579132],\n",
       "       [0.37914926],\n",
       "       [0.3765367 ],\n",
       "       [0.36941573],\n",
       "       [0.38539445],\n",
       "       [0.37199575],\n",
       "       [0.38400394],\n",
       "       [0.36906844],\n",
       "       [0.36719057],\n",
       "       [0.3803497 ],\n",
       "       [0.3730163 ],\n",
       "       [0.3844742 ],\n",
       "       [0.37707984],\n",
       "       [0.3720132 ],\n",
       "       [0.4240231 ],\n",
       "       [0.3790477 ],\n",
       "       [0.39474422],\n",
       "       [0.36583447],\n",
       "       [0.36570013],\n",
       "       [0.3807868 ],\n",
       "       [0.3681966 ],\n",
       "       [0.38057247],\n",
       "       [0.3951472 ],\n",
       "       [0.36611804],\n",
       "       [0.39329797],\n",
       "       [0.36889735],\n",
       "       [0.36583838],\n",
       "       [0.36588937],\n",
       "       [0.41792846],\n",
       "       [0.38165998],\n",
       "       [0.3738056 ],\n",
       "       [0.37873685],\n",
       "       [0.41640884],\n",
       "       [0.3655656 ],\n",
       "       [0.36675924],\n",
       "       [0.36964762],\n",
       "       [0.3774401 ],\n",
       "       [0.3959758 ],\n",
       "       [0.40065485],\n",
       "       [0.37088275],\n",
       "       [0.3657638 ],\n",
       "       [0.37572488],\n",
       "       [0.4003014 ],\n",
       "       [0.36559185],\n",
       "       [0.37645763],\n",
       "       [0.3656435 ],\n",
       "       [0.3760047 ],\n",
       "       [0.38149923],\n",
       "       [0.38001606],\n",
       "       [0.3683807 ],\n",
       "       [0.38066995],\n",
       "       [0.37289357],\n",
       "       [0.4047565 ],\n",
       "       [0.36548442],\n",
       "       [0.36580372],\n",
       "       [0.3799553 ],\n",
       "       [0.36962253],\n",
       "       [0.3657689 ],\n",
       "       [0.37497804],\n",
       "       [0.39309686],\n",
       "       [0.38096952],\n",
       "       [0.37948525],\n",
       "       [0.3843613 ],\n",
       "       [0.37462676],\n",
       "       [0.36571145],\n",
       "       [0.36584055],\n",
       "       [0.39077818],\n",
       "       [0.39433634],\n",
       "       [0.36571354],\n",
       "       [0.38687497],\n",
       "       [0.40054047],\n",
       "       [0.3655725 ],\n",
       "       [0.36575967],\n",
       "       [0.3978119 ],\n",
       "       [0.365538  ],\n",
       "       [0.36581677],\n",
       "       [0.3788901 ],\n",
       "       [0.38284945],\n",
       "       [0.36776432],\n",
       "       [0.39227587],\n",
       "       [0.3655252 ],\n",
       "       [0.3669715 ],\n",
       "       [0.37697086],\n",
       "       [0.382047  ],\n",
       "       [0.3878618 ],\n",
       "       [0.36567682],\n",
       "       [0.36585307],\n",
       "       [0.40241247],\n",
       "       [0.3843684 ],\n",
       "       [0.3774649 ],\n",
       "       [0.3756494 ],\n",
       "       [0.3735602 ],\n",
       "       [0.36592177],\n",
       "       [0.38593903],\n",
       "       [0.39914864],\n",
       "       [0.4048673 ],\n",
       "       [0.3670118 ],\n",
       "       [0.38094828],\n",
       "       [0.40632808],\n",
       "       [0.38280818],\n",
       "       [0.36591893],\n",
       "       [0.39231542],\n",
       "       [0.36832792],\n",
       "       [0.38294473],\n",
       "       [0.3966981 ],\n",
       "       [0.36552644],\n",
       "       [0.36571652],\n",
       "       [0.3656982 ],\n",
       "       [0.37693197],\n",
       "       [0.38580608],\n",
       "       [0.37486377],\n",
       "       [0.37077373],\n",
       "       [0.36578563],\n",
       "       [0.38197705],\n",
       "       [0.40360534],\n",
       "       [0.36570895],\n",
       "       [0.3659003 ],\n",
       "       [0.3958404 ],\n",
       "       [0.39414042],\n",
       "       [0.38529894],\n",
       "       [0.38307524],\n",
       "       [0.36571535],\n",
       "       [0.38018662],\n",
       "       [0.3899419 ],\n",
       "       [0.36645126],\n",
       "       [0.40334868],\n",
       "       [0.36549136],\n",
       "       [0.365821  ],\n",
       "       [0.386032  ],\n",
       "       [0.36852995],\n",
       "       [0.3798479 ],\n",
       "       [0.38435602],\n",
       "       [0.36566335],\n",
       "       [0.36585987],\n",
       "       [0.39720243]], dtype=float32)"
      ]
     },
     "execution_count": 381,
     "metadata": {},
     "output_type": "execute_result"
    }
   ],
   "source": [
    "Predict"
   ]
  },
  {
   "cell_type": "code",
   "execution_count": 382,
   "metadata": {
    "scrolled": true
   },
   "outputs": [
    {
     "data": {
      "image/png": "[encoded data removed]",
      "text/plain": [
       "<Figure size 1080x720 with 1 Axes>"
      ]
     },
     "metadata": {
      "needs_background": "light"
     },
     "output_type": "display_data"
    }
   ],
   "source": [
    "plt.figure(figsize=(15,10))\n",
    "plt.plot(Y_test,label = 'Test')\n",
    "plt.plot(Predict, label = 'Prediction')\n",
    "plt.legend(loc='best')\n",
    "plt.show()"
   ]
  },
  {
   "cell_type": "code",
   "execution_count": null,
   "metadata": {},
   "outputs": [],
   "source": [
    "# start=time()\n",
    "# model = KerasClassifier(build_fn=create_model)\n",
    "# optimizers = ['rmsprop', 'adam']\n",
    "# init = ['glorot_uniform', 'normal', 'uniform']\n",
    "# epochs = np.array([50, 100, 150])\n",
    "# batches = np.array([5, 10, 20])\n",
    "# param_grid = dict(optimizer=optimizers, nb_epoch=epochs, batch_size=batches, init=init)\n",
    "# grid = GridSearchCV(estimator=model, param_grid=param_grid)\n",
    "# grid_result = grid.fit(X_train, Y_train)\n",
    "# print(\"Best: %f using %s\" % (grid_result.best_score_, grid_result.best_params_))\n",
    "# for params, mean_score, scores in grid_result.grid_scores_:\n",
    "#     print(\"%f (%f) with: %r\" % (scores.mean(), scores.std(), params))\n",
    "# print(\"total time:\",time()-start)"
   ]
  }
 ],
 "metadata": {
  "kernelspec": {
   "display_name": "Python 3",
   "language": "python",
   "name": "python3"
  },
  "language_info": {
   "codemirror_mode": {
    "name": "ipython",
    "version": 3
   },
   "file_extension": ".py",
   "mimetype": "text/x-python",
   "name": "python",
   "nbconvert_exporter": "python",
   "pygments_lexer": "ipython3",
   "version": "3.7.1"
  }
 },
 "nbformat": 4,
 "nbformat_minor": 2
}
